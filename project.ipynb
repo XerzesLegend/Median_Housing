{
 "cells": [
  {
   "cell_type": "markdown",
   "metadata": {},
   "source": [
    "# Final Project for Machine Learning: Regression"
   ]
  },
  {
   "cell_type": "code",
   "execution_count": 1,
   "metadata": {},
   "outputs": [],
   "source": [
    "import pandas as pd\n",
    "import numpy as np\n",
    "from sklearn.metrics import r2_score\n",
    "from sklearn.linear_model import LassoCV, LinearRegression, RidgeCV, ElasticNetCV, Lasso, Ridge, ElasticNet\n",
    "from sklearn.model_selection import train_test_split, KFold, cross_val_predict, GridSearchCV\n",
    "from sklearn.preprocessing import PolynomialFeatures, StandardScaler, MinMaxScaler\n",
    "from sklearn.pipeline import Pipeline"
   ]
  },
  {
   "cell_type": "markdown",
   "metadata": {},
   "source": [
    "## Importing the data set"
   ]
  },
  {
   "cell_type": "code",
   "execution_count": 2,
   "metadata": {},
   "outputs": [
    {
     "data": {
      "text/html": [
       "<div>\n",
       "<style scoped>\n",
       "    .dataframe tbody tr th:only-of-type {\n",
       "        vertical-align: middle;\n",
       "    }\n",
       "\n",
       "    .dataframe tbody tr th {\n",
       "        vertical-align: top;\n",
       "    }\n",
       "\n",
       "    .dataframe thead th {\n",
       "        text-align: right;\n",
       "    }\n",
       "</style>\n",
       "<table border=\"1\" class=\"dataframe\">\n",
       "  <thead>\n",
       "    <tr style=\"text-align: right;\">\n",
       "      <th></th>\n",
       "      <th>Median_House_Value</th>\n",
       "      <th>Median_Income</th>\n",
       "      <th>Median_Age</th>\n",
       "      <th>Tot_Rooms</th>\n",
       "      <th>Tot_Bedrooms</th>\n",
       "      <th>Population</th>\n",
       "      <th>Households</th>\n",
       "      <th>Latitude</th>\n",
       "      <th>Longitude</th>\n",
       "      <th>Distance_to_coast</th>\n",
       "      <th>Distance_to_LA</th>\n",
       "      <th>Distance_to_SanDiego</th>\n",
       "      <th>Distance_to_SanJose</th>\n",
       "      <th>Distance_to_SanFrancisco</th>\n",
       "    </tr>\n",
       "  </thead>\n",
       "  <tbody>\n",
       "    <tr>\n",
       "      <th>0</th>\n",
       "      <td>452600.0</td>\n",
       "      <td>8.3252</td>\n",
       "      <td>41</td>\n",
       "      <td>880</td>\n",
       "      <td>129</td>\n",
       "      <td>322</td>\n",
       "      <td>126</td>\n",
       "      <td>37.88</td>\n",
       "      <td>-122.23</td>\n",
       "      <td>9263.040773</td>\n",
       "      <td>556529.158342</td>\n",
       "      <td>735501.806984</td>\n",
       "      <td>67432.517001</td>\n",
       "      <td>21250.213767</td>\n",
       "    </tr>\n",
       "    <tr>\n",
       "      <th>1</th>\n",
       "      <td>358500.0</td>\n",
       "      <td>8.3014</td>\n",
       "      <td>21</td>\n",
       "      <td>7099</td>\n",
       "      <td>1106</td>\n",
       "      <td>2401</td>\n",
       "      <td>1138</td>\n",
       "      <td>37.86</td>\n",
       "      <td>-122.22</td>\n",
       "      <td>10225.733072</td>\n",
       "      <td>554279.850069</td>\n",
       "      <td>733236.884360</td>\n",
       "      <td>65049.908574</td>\n",
       "      <td>20880.600400</td>\n",
       "    </tr>\n",
       "    <tr>\n",
       "      <th>2</th>\n",
       "      <td>352100.0</td>\n",
       "      <td>7.2574</td>\n",
       "      <td>52</td>\n",
       "      <td>1467</td>\n",
       "      <td>190</td>\n",
       "      <td>496</td>\n",
       "      <td>177</td>\n",
       "      <td>37.85</td>\n",
       "      <td>-122.24</td>\n",
       "      <td>8259.085109</td>\n",
       "      <td>554610.717069</td>\n",
       "      <td>733525.682937</td>\n",
       "      <td>64867.289833</td>\n",
       "      <td>18811.487450</td>\n",
       "    </tr>\n",
       "    <tr>\n",
       "      <th>3</th>\n",
       "      <td>341300.0</td>\n",
       "      <td>5.6431</td>\n",
       "      <td>52</td>\n",
       "      <td>1274</td>\n",
       "      <td>235</td>\n",
       "      <td>558</td>\n",
       "      <td>219</td>\n",
       "      <td>37.85</td>\n",
       "      <td>-122.25</td>\n",
       "      <td>7768.086571</td>\n",
       "      <td>555194.266086</td>\n",
       "      <td>734095.290744</td>\n",
       "      <td>65287.138412</td>\n",
       "      <td>18031.047568</td>\n",
       "    </tr>\n",
       "    <tr>\n",
       "      <th>4</th>\n",
       "      <td>342200.0</td>\n",
       "      <td>3.8462</td>\n",
       "      <td>52</td>\n",
       "      <td>1627</td>\n",
       "      <td>280</td>\n",
       "      <td>565</td>\n",
       "      <td>259</td>\n",
       "      <td>37.85</td>\n",
       "      <td>-122.25</td>\n",
       "      <td>7768.086571</td>\n",
       "      <td>555194.266086</td>\n",
       "      <td>734095.290744</td>\n",
       "      <td>65287.138412</td>\n",
       "      <td>18031.047568</td>\n",
       "    </tr>\n",
       "  </tbody>\n",
       "</table>\n",
       "</div>"
      ],
      "text/plain": [
       "   Median_House_Value  Median_Income  Median_Age  Tot_Rooms  Tot_Bedrooms  \\\n",
       "0            452600.0         8.3252          41        880           129   \n",
       "1            358500.0         8.3014          21       7099          1106   \n",
       "2            352100.0         7.2574          52       1467           190   \n",
       "3            341300.0         5.6431          52       1274           235   \n",
       "4            342200.0         3.8462          52       1627           280   \n",
       "\n",
       "   Population  Households  Latitude  Longitude  Distance_to_coast  \\\n",
       "0         322         126     37.88    -122.23        9263.040773   \n",
       "1        2401        1138     37.86    -122.22       10225.733072   \n",
       "2         496         177     37.85    -122.24        8259.085109   \n",
       "3         558         219     37.85    -122.25        7768.086571   \n",
       "4         565         259     37.85    -122.25        7768.086571   \n",
       "\n",
       "   Distance_to_LA  Distance_to_SanDiego  Distance_to_SanJose  \\\n",
       "0   556529.158342         735501.806984         67432.517001   \n",
       "1   554279.850069         733236.884360         65049.908574   \n",
       "2   554610.717069         733525.682937         64867.289833   \n",
       "3   555194.266086         734095.290744         65287.138412   \n",
       "4   555194.266086         734095.290744         65287.138412   \n",
       "\n",
       "   Distance_to_SanFrancisco  \n",
       "0              21250.213767  \n",
       "1              20880.600400  \n",
       "2              18811.487450  \n",
       "3              18031.047568  \n",
       "4              18031.047568  "
      ]
     },
     "execution_count": 2,
     "metadata": {},
     "output_type": "execute_result"
    }
   ],
   "source": [
    "path = 'California_Houses.csv'\n",
    "data = pd.read_csv(path)\n",
    "data.head()"
   ]
  },
  {
   "cell_type": "markdown",
   "metadata": {},
   "source": [
    "## Removing outliers"
   ]
  },
  {
   "cell_type": "code",
   "execution_count": 3,
   "metadata": {},
   "outputs": [
    {
     "data": {
      "text/html": [
       "<div>\n",
       "<style scoped>\n",
       "    .dataframe tbody tr th:only-of-type {\n",
       "        vertical-align: middle;\n",
       "    }\n",
       "\n",
       "    .dataframe tbody tr th {\n",
       "        vertical-align: top;\n",
       "    }\n",
       "\n",
       "    .dataframe thead th {\n",
       "        text-align: right;\n",
       "    }\n",
       "</style>\n",
       "<table border=\"1\" class=\"dataframe\">\n",
       "  <thead>\n",
       "    <tr style=\"text-align: right;\">\n",
       "      <th></th>\n",
       "      <th>Median_House_Value</th>\n",
       "      <th>Median_Income</th>\n",
       "      <th>Median_Age</th>\n",
       "      <th>Tot_Rooms</th>\n",
       "      <th>Tot_Bedrooms</th>\n",
       "      <th>Population</th>\n",
       "      <th>Households</th>\n",
       "      <th>Latitude</th>\n",
       "      <th>Longitude</th>\n",
       "      <th>Distance_to_coast</th>\n",
       "      <th>Distance_to_LA</th>\n",
       "      <th>Distance_to_SanDiego</th>\n",
       "      <th>Distance_to_SanJose</th>\n",
       "      <th>Distance_to_SanFrancisco</th>\n",
       "    </tr>\n",
       "  </thead>\n",
       "  <tbody>\n",
       "    <tr>\n",
       "      <th>count</th>\n",
       "      <td>20640.000000</td>\n",
       "      <td>20640.000000</td>\n",
       "      <td>20640.000000</td>\n",
       "      <td>20640.000000</td>\n",
       "      <td>20640.000000</td>\n",
       "      <td>20640.000000</td>\n",
       "      <td>20640.000000</td>\n",
       "      <td>20640.000000</td>\n",
       "      <td>20640.000000</td>\n",
       "      <td>20640.000000</td>\n",
       "      <td>2.064000e+04</td>\n",
       "      <td>2.064000e+04</td>\n",
       "      <td>20640.000000</td>\n",
       "      <td>20640.000000</td>\n",
       "    </tr>\n",
       "    <tr>\n",
       "      <th>mean</th>\n",
       "      <td>206855.816909</td>\n",
       "      <td>3.870671</td>\n",
       "      <td>28.639486</td>\n",
       "      <td>2635.763081</td>\n",
       "      <td>537.898014</td>\n",
       "      <td>1425.476744</td>\n",
       "      <td>499.539680</td>\n",
       "      <td>35.631861</td>\n",
       "      <td>-119.569704</td>\n",
       "      <td>40509.264883</td>\n",
       "      <td>2.694220e+05</td>\n",
       "      <td>3.981649e+05</td>\n",
       "      <td>349187.551219</td>\n",
       "      <td>386688.422291</td>\n",
       "    </tr>\n",
       "    <tr>\n",
       "      <th>std</th>\n",
       "      <td>115395.615874</td>\n",
       "      <td>1.899822</td>\n",
       "      <td>12.585558</td>\n",
       "      <td>2181.615252</td>\n",
       "      <td>421.247906</td>\n",
       "      <td>1132.462122</td>\n",
       "      <td>382.329753</td>\n",
       "      <td>2.135952</td>\n",
       "      <td>2.003532</td>\n",
       "      <td>49140.039160</td>\n",
       "      <td>2.477324e+05</td>\n",
       "      <td>2.894006e+05</td>\n",
       "      <td>217149.875026</td>\n",
       "      <td>250122.192316</td>\n",
       "    </tr>\n",
       "    <tr>\n",
       "      <th>min</th>\n",
       "      <td>14999.000000</td>\n",
       "      <td>0.499900</td>\n",
       "      <td>1.000000</td>\n",
       "      <td>2.000000</td>\n",
       "      <td>1.000000</td>\n",
       "      <td>3.000000</td>\n",
       "      <td>1.000000</td>\n",
       "      <td>32.540000</td>\n",
       "      <td>-124.350000</td>\n",
       "      <td>120.676447</td>\n",
       "      <td>4.205891e+02</td>\n",
       "      <td>4.849180e+02</td>\n",
       "      <td>569.448118</td>\n",
       "      <td>456.141313</td>\n",
       "    </tr>\n",
       "    <tr>\n",
       "      <th>25%</th>\n",
       "      <td>119600.000000</td>\n",
       "      <td>2.563400</td>\n",
       "      <td>18.000000</td>\n",
       "      <td>1447.750000</td>\n",
       "      <td>295.000000</td>\n",
       "      <td>787.000000</td>\n",
       "      <td>280.000000</td>\n",
       "      <td>33.930000</td>\n",
       "      <td>-121.800000</td>\n",
       "      <td>9079.756762</td>\n",
       "      <td>3.211125e+04</td>\n",
       "      <td>1.594264e+05</td>\n",
       "      <td>113119.928682</td>\n",
       "      <td>117395.477505</td>\n",
       "    </tr>\n",
       "    <tr>\n",
       "      <th>50%</th>\n",
       "      <td>179700.000000</td>\n",
       "      <td>3.534800</td>\n",
       "      <td>29.000000</td>\n",
       "      <td>2127.000000</td>\n",
       "      <td>435.000000</td>\n",
       "      <td>1166.000000</td>\n",
       "      <td>409.000000</td>\n",
       "      <td>34.260000</td>\n",
       "      <td>-118.490000</td>\n",
       "      <td>20522.019101</td>\n",
       "      <td>1.736675e+05</td>\n",
       "      <td>2.147398e+05</td>\n",
       "      <td>459758.877000</td>\n",
       "      <td>526546.661701</td>\n",
       "    </tr>\n",
       "    <tr>\n",
       "      <th>75%</th>\n",
       "      <td>264725.000000</td>\n",
       "      <td>4.743250</td>\n",
       "      <td>37.000000</td>\n",
       "      <td>3148.000000</td>\n",
       "      <td>647.000000</td>\n",
       "      <td>1725.000000</td>\n",
       "      <td>605.000000</td>\n",
       "      <td>37.710000</td>\n",
       "      <td>-118.010000</td>\n",
       "      <td>49830.414479</td>\n",
       "      <td>5.271562e+05</td>\n",
       "      <td>7.057954e+05</td>\n",
       "      <td>516946.490963</td>\n",
       "      <td>584552.007907</td>\n",
       "    </tr>\n",
       "    <tr>\n",
       "      <th>max</th>\n",
       "      <td>500001.000000</td>\n",
       "      <td>15.000100</td>\n",
       "      <td>52.000000</td>\n",
       "      <td>39320.000000</td>\n",
       "      <td>6445.000000</td>\n",
       "      <td>35682.000000</td>\n",
       "      <td>6082.000000</td>\n",
       "      <td>41.950000</td>\n",
       "      <td>-114.310000</td>\n",
       "      <td>333804.686371</td>\n",
       "      <td>1.018260e+06</td>\n",
       "      <td>1.196919e+06</td>\n",
       "      <td>836762.678210</td>\n",
       "      <td>903627.663298</td>\n",
       "    </tr>\n",
       "  </tbody>\n",
       "</table>\n",
       "</div>"
      ],
      "text/plain": [
       "       Median_House_Value  Median_Income    Median_Age     Tot_Rooms  \\\n",
       "count        20640.000000   20640.000000  20640.000000  20640.000000   \n",
       "mean        206855.816909       3.870671     28.639486   2635.763081   \n",
       "std         115395.615874       1.899822     12.585558   2181.615252   \n",
       "min          14999.000000       0.499900      1.000000      2.000000   \n",
       "25%         119600.000000       2.563400     18.000000   1447.750000   \n",
       "50%         179700.000000       3.534800     29.000000   2127.000000   \n",
       "75%         264725.000000       4.743250     37.000000   3148.000000   \n",
       "max         500001.000000      15.000100     52.000000  39320.000000   \n",
       "\n",
       "       Tot_Bedrooms    Population    Households      Latitude     Longitude  \\\n",
       "count  20640.000000  20640.000000  20640.000000  20640.000000  20640.000000   \n",
       "mean     537.898014   1425.476744    499.539680     35.631861   -119.569704   \n",
       "std      421.247906   1132.462122    382.329753      2.135952      2.003532   \n",
       "min        1.000000      3.000000      1.000000     32.540000   -124.350000   \n",
       "25%      295.000000    787.000000    280.000000     33.930000   -121.800000   \n",
       "50%      435.000000   1166.000000    409.000000     34.260000   -118.490000   \n",
       "75%      647.000000   1725.000000    605.000000     37.710000   -118.010000   \n",
       "max     6445.000000  35682.000000   6082.000000     41.950000   -114.310000   \n",
       "\n",
       "       Distance_to_coast  Distance_to_LA  Distance_to_SanDiego  \\\n",
       "count       20640.000000    2.064000e+04          2.064000e+04   \n",
       "mean        40509.264883    2.694220e+05          3.981649e+05   \n",
       "std         49140.039160    2.477324e+05          2.894006e+05   \n",
       "min           120.676447    4.205891e+02          4.849180e+02   \n",
       "25%          9079.756762    3.211125e+04          1.594264e+05   \n",
       "50%         20522.019101    1.736675e+05          2.147398e+05   \n",
       "75%         49830.414479    5.271562e+05          7.057954e+05   \n",
       "max        333804.686371    1.018260e+06          1.196919e+06   \n",
       "\n",
       "       Distance_to_SanJose  Distance_to_SanFrancisco  \n",
       "count         20640.000000              20640.000000  \n",
       "mean         349187.551219             386688.422291  \n",
       "std          217149.875026             250122.192316  \n",
       "min             569.448118                456.141313  \n",
       "25%          113119.928682             117395.477505  \n",
       "50%          459758.877000             526546.661701  \n",
       "75%          516946.490963             584552.007907  \n",
       "max          836762.678210             903627.663298  "
      ]
     },
     "execution_count": 3,
     "metadata": {},
     "output_type": "execute_result"
    }
   ],
   "source": [
    "df = data\n",
    "df.describe()"
   ]
  },
  {
   "cell_type": "code",
   "execution_count": 4,
   "metadata": {},
   "outputs": [
    {
     "data": {
      "text/plain": [
       "Median_House_Value          float64\n",
       "Median_Income               float64\n",
       "Median_Age                    int64\n",
       "Tot_Rooms                     int64\n",
       "Tot_Bedrooms                  int64\n",
       "Population                    int64\n",
       "Households                    int64\n",
       "Latitude                    float64\n",
       "Longitude                   float64\n",
       "Distance_to_coast           float64\n",
       "Distance_to_LA              float64\n",
       "Distance_to_SanDiego        float64\n",
       "Distance_to_SanJose         float64\n",
       "Distance_to_SanFrancisco    float64\n",
       "dtype: object"
      ]
     },
     "execution_count": 4,
     "metadata": {},
     "output_type": "execute_result"
    }
   ],
   "source": [
    "df.dtypes"
   ]
  },
  {
   "cell_type": "code",
   "execution_count": 5,
   "metadata": {},
   "outputs": [
    {
     "data": {
      "text/html": [
       "<div>\n",
       "<style scoped>\n",
       "    .dataframe tbody tr th:only-of-type {\n",
       "        vertical-align: middle;\n",
       "    }\n",
       "\n",
       "    .dataframe tbody tr th {\n",
       "        vertical-align: top;\n",
       "    }\n",
       "\n",
       "    .dataframe thead th {\n",
       "        text-align: right;\n",
       "    }\n",
       "</style>\n",
       "<table border=\"1\" class=\"dataframe\">\n",
       "  <thead>\n",
       "    <tr style=\"text-align: right;\">\n",
       "      <th></th>\n",
       "      <th>Median_House_Value</th>\n",
       "      <th>Median_Income</th>\n",
       "      <th>Median_Age</th>\n",
       "      <th>Tot_Rooms</th>\n",
       "      <th>Tot_Bedrooms</th>\n",
       "      <th>Population</th>\n",
       "      <th>Households</th>\n",
       "      <th>Latitude</th>\n",
       "      <th>Longitude</th>\n",
       "      <th>Distance_to_coast</th>\n",
       "      <th>Distance_to_LA</th>\n",
       "      <th>Distance_to_SanDiego</th>\n",
       "      <th>Distance_to_SanJose</th>\n",
       "      <th>Distance_to_SanFrancisco</th>\n",
       "    </tr>\n",
       "  </thead>\n",
       "  <tbody>\n",
       "    <tr>\n",
       "      <th>count</th>\n",
       "      <td>20640.000000</td>\n",
       "      <td>20640.000000</td>\n",
       "      <td>20640.000000</td>\n",
       "      <td>20640.000000</td>\n",
       "      <td>20640.000000</td>\n",
       "      <td>20640.000000</td>\n",
       "      <td>20640.000000</td>\n",
       "      <td>20640.000000</td>\n",
       "      <td>20640.000000</td>\n",
       "      <td>20640.000000</td>\n",
       "      <td>2.064000e+04</td>\n",
       "      <td>2.064000e+04</td>\n",
       "      <td>20640.000000</td>\n",
       "      <td>20640.000000</td>\n",
       "    </tr>\n",
       "    <tr>\n",
       "      <th>mean</th>\n",
       "      <td>206855.816909</td>\n",
       "      <td>3.870671</td>\n",
       "      <td>28.639486</td>\n",
       "      <td>2635.763081</td>\n",
       "      <td>537.898014</td>\n",
       "      <td>1425.476744</td>\n",
       "      <td>499.539680</td>\n",
       "      <td>35.631861</td>\n",
       "      <td>-119.569704</td>\n",
       "      <td>40509.264883</td>\n",
       "      <td>2.694220e+05</td>\n",
       "      <td>3.981649e+05</td>\n",
       "      <td>349187.551219</td>\n",
       "      <td>386688.422291</td>\n",
       "    </tr>\n",
       "    <tr>\n",
       "      <th>std</th>\n",
       "      <td>115395.615874</td>\n",
       "      <td>1.899822</td>\n",
       "      <td>12.585558</td>\n",
       "      <td>2181.615252</td>\n",
       "      <td>421.247906</td>\n",
       "      <td>1132.462122</td>\n",
       "      <td>382.329753</td>\n",
       "      <td>2.135952</td>\n",
       "      <td>2.003532</td>\n",
       "      <td>49140.039160</td>\n",
       "      <td>2.477324e+05</td>\n",
       "      <td>2.894006e+05</td>\n",
       "      <td>217149.875026</td>\n",
       "      <td>250122.192316</td>\n",
       "    </tr>\n",
       "    <tr>\n",
       "      <th>min</th>\n",
       "      <td>14999.000000</td>\n",
       "      <td>0.499900</td>\n",
       "      <td>1.000000</td>\n",
       "      <td>2.000000</td>\n",
       "      <td>1.000000</td>\n",
       "      <td>3.000000</td>\n",
       "      <td>1.000000</td>\n",
       "      <td>32.540000</td>\n",
       "      <td>-124.350000</td>\n",
       "      <td>120.676447</td>\n",
       "      <td>4.205891e+02</td>\n",
       "      <td>4.849180e+02</td>\n",
       "      <td>569.448118</td>\n",
       "      <td>456.141313</td>\n",
       "    </tr>\n",
       "    <tr>\n",
       "      <th>25%</th>\n",
       "      <td>119600.000000</td>\n",
       "      <td>2.563400</td>\n",
       "      <td>18.000000</td>\n",
       "      <td>1447.750000</td>\n",
       "      <td>295.000000</td>\n",
       "      <td>787.000000</td>\n",
       "      <td>280.000000</td>\n",
       "      <td>33.930000</td>\n",
       "      <td>-121.800000</td>\n",
       "      <td>9079.756762</td>\n",
       "      <td>3.211125e+04</td>\n",
       "      <td>1.594264e+05</td>\n",
       "      <td>113119.928682</td>\n",
       "      <td>117395.477505</td>\n",
       "    </tr>\n",
       "    <tr>\n",
       "      <th>50%</th>\n",
       "      <td>179700.000000</td>\n",
       "      <td>3.534800</td>\n",
       "      <td>29.000000</td>\n",
       "      <td>2127.000000</td>\n",
       "      <td>435.000000</td>\n",
       "      <td>1166.000000</td>\n",
       "      <td>409.000000</td>\n",
       "      <td>34.260000</td>\n",
       "      <td>-118.490000</td>\n",
       "      <td>20522.019101</td>\n",
       "      <td>1.736675e+05</td>\n",
       "      <td>2.147398e+05</td>\n",
       "      <td>459758.877000</td>\n",
       "      <td>526546.661701</td>\n",
       "    </tr>\n",
       "    <tr>\n",
       "      <th>75%</th>\n",
       "      <td>264725.000000</td>\n",
       "      <td>4.743250</td>\n",
       "      <td>37.000000</td>\n",
       "      <td>3148.000000</td>\n",
       "      <td>647.000000</td>\n",
       "      <td>1725.000000</td>\n",
       "      <td>605.000000</td>\n",
       "      <td>37.710000</td>\n",
       "      <td>-118.010000</td>\n",
       "      <td>49830.414479</td>\n",
       "      <td>5.271562e+05</td>\n",
       "      <td>7.057954e+05</td>\n",
       "      <td>516946.490963</td>\n",
       "      <td>584552.007907</td>\n",
       "    </tr>\n",
       "    <tr>\n",
       "      <th>max</th>\n",
       "      <td>500001.000000</td>\n",
       "      <td>15.000100</td>\n",
       "      <td>52.000000</td>\n",
       "      <td>39320.000000</td>\n",
       "      <td>6445.000000</td>\n",
       "      <td>35682.000000</td>\n",
       "      <td>6082.000000</td>\n",
       "      <td>41.950000</td>\n",
       "      <td>-114.310000</td>\n",
       "      <td>333804.686371</td>\n",
       "      <td>1.018260e+06</td>\n",
       "      <td>1.196919e+06</td>\n",
       "      <td>836762.678210</td>\n",
       "      <td>903627.663298</td>\n",
       "    </tr>\n",
       "  </tbody>\n",
       "</table>\n",
       "</div>"
      ],
      "text/plain": [
       "       Median_House_Value  Median_Income    Median_Age     Tot_Rooms  \\\n",
       "count        20640.000000   20640.000000  20640.000000  20640.000000   \n",
       "mean        206855.816909       3.870671     28.639486   2635.763081   \n",
       "std         115395.615874       1.899822     12.585558   2181.615252   \n",
       "min          14999.000000       0.499900      1.000000      2.000000   \n",
       "25%         119600.000000       2.563400     18.000000   1447.750000   \n",
       "50%         179700.000000       3.534800     29.000000   2127.000000   \n",
       "75%         264725.000000       4.743250     37.000000   3148.000000   \n",
       "max         500001.000000      15.000100     52.000000  39320.000000   \n",
       "\n",
       "       Tot_Bedrooms    Population    Households      Latitude     Longitude  \\\n",
       "count  20640.000000  20640.000000  20640.000000  20640.000000  20640.000000   \n",
       "mean     537.898014   1425.476744    499.539680     35.631861   -119.569704   \n",
       "std      421.247906   1132.462122    382.329753      2.135952      2.003532   \n",
       "min        1.000000      3.000000      1.000000     32.540000   -124.350000   \n",
       "25%      295.000000    787.000000    280.000000     33.930000   -121.800000   \n",
       "50%      435.000000   1166.000000    409.000000     34.260000   -118.490000   \n",
       "75%      647.000000   1725.000000    605.000000     37.710000   -118.010000   \n",
       "max     6445.000000  35682.000000   6082.000000     41.950000   -114.310000   \n",
       "\n",
       "       Distance_to_coast  Distance_to_LA  Distance_to_SanDiego  \\\n",
       "count       20640.000000    2.064000e+04          2.064000e+04   \n",
       "mean        40509.264883    2.694220e+05          3.981649e+05   \n",
       "std         49140.039160    2.477324e+05          2.894006e+05   \n",
       "min           120.676447    4.205891e+02          4.849180e+02   \n",
       "25%          9079.756762    3.211125e+04          1.594264e+05   \n",
       "50%         20522.019101    1.736675e+05          2.147398e+05   \n",
       "75%         49830.414479    5.271562e+05          7.057954e+05   \n",
       "max        333804.686371    1.018260e+06          1.196919e+06   \n",
       "\n",
       "       Distance_to_SanJose  Distance_to_SanFrancisco  \n",
       "count         20640.000000              20640.000000  \n",
       "mean         349187.551219             386688.422291  \n",
       "std          217149.875026             250122.192316  \n",
       "min             569.448118                456.141313  \n",
       "25%          113119.928682             117395.477505  \n",
       "50%          459758.877000             526546.661701  \n",
       "75%          516946.490963             584552.007907  \n",
       "max          836762.678210             903627.663298  "
      ]
     },
     "execution_count": 5,
     "metadata": {},
     "output_type": "execute_result"
    }
   ],
   "source": [
    "df.describe()"
   ]
  },
  {
   "cell_type": "code",
   "execution_count": 6,
   "metadata": {},
   "outputs": [
    {
     "data": {
      "text/plain": [
       "<matplotlib.axes._subplots.AxesSubplot at 0x28a70105f40>"
      ]
     },
     "execution_count": 6,
     "metadata": {},
     "output_type": "execute_result"
    },
    {
     "data": {
      "image/png": "[encoded data removed]",
      "text/plain": [
       "<Figure size 432x288 with 1 Axes>"
      ]
     },
     "metadata": {
      "needs_background": "light"
     },
     "output_type": "display_data"
    }
   ],
   "source": [
    "df['Distance_to_SanFrancisco'].hist()"
   ]
  },
  {
   "cell_type": "markdown",
   "metadata": {},
   "source": [
    "## Checking if we have any missing values"
   ]
  },
  {
   "cell_type": "code",
   "execution_count": 7,
   "metadata": {},
   "outputs": [
    {
     "data": {
      "text/plain": [
       "Median_House_Value          0\n",
       "Median_Income               0\n",
       "Median_Age                  0\n",
       "Tot_Rooms                   0\n",
       "Tot_Bedrooms                0\n",
       "Population                  0\n",
       "Households                  0\n",
       "Latitude                    0\n",
       "Longitude                   0\n",
       "Distance_to_coast           0\n",
       "Distance_to_LA              0\n",
       "Distance_to_SanDiego        0\n",
       "Distance_to_SanJose         0\n",
       "Distance_to_SanFrancisco    0\n",
       "dtype: int64"
      ]
     },
     "execution_count": 7,
     "metadata": {},
     "output_type": "execute_result"
    }
   ],
   "source": [
    "df.isnull().sum()"
   ]
  },
  {
   "cell_type": "markdown",
   "metadata": {},
   "source": [
    "## Separating data into X and y"
   ]
  },
  {
   "cell_type": "code",
   "execution_count": 8,
   "metadata": {},
   "outputs": [],
   "source": [
    "y_col = 'Median_House_Value'\n",
    "X = df.drop(y_col, axis=1)\n",
    "y = df[y_col]"
   ]
  },
  {
   "cell_type": "markdown",
   "metadata": {},
   "source": [
    "## Applying abs() on negative data points"
   ]
  },
  {
   "cell_type": "code",
   "execution_count": 9,
   "metadata": {},
   "outputs": [],
   "source": [
    "X['Latitude'] = X['Latitude'].abs()\n",
    "X['Longitude'] = X['Longitude'].abs()"
   ]
  },
  {
   "cell_type": "markdown",
   "metadata": {},
   "source": [
    "## Applying log10 on every column"
   ]
  },
  {
   "cell_type": "code",
   "execution_count": 10,
   "metadata": {},
   "outputs": [],
   "source": [
    "for col in X.columns:\n",
    "    X[col]  = X[col].apply(np.log1p)  # same thing"
   ]
  },
  {
   "cell_type": "markdown",
   "metadata": {},
   "source": [
    "## Linear Regression"
   ]
  },
  {
   "cell_type": "code",
   "execution_count": 11,
   "metadata": {},
   "outputs": [
    {
     "data": {
      "text/plain": [
       "0.6633690602875023"
      ]
     },
     "execution_count": 11,
     "metadata": {},
     "output_type": "execute_result"
    }
   ],
   "source": [
    "s = StandardScaler()\n",
    "lr = LinearRegression()\n",
    "minmax = MinMaxScaler()\n",
    "kf = KFold(shuffle=True, random_state=72018, n_splits=3)\n",
    "estimator_1 = Pipeline([(\"minmax\", minmax),\n",
    "                      (\"regression\", lr)])\n",
    "\n",
    "predictions = cross_val_predict(estimator_1, X, y, cv=kf)\n",
    "\n",
    "r2_score(y, predictions)"
   ]
  },
  {
   "cell_type": "markdown",
   "metadata": {},
   "source": [
    "## Ridge Regression"
   ]
  },
  {
   "cell_type": "code",
   "execution_count": 12,
   "metadata": {},
   "outputs": [],
   "source": [
    "estimator = Pipeline([(\"minmax\", MinMaxScaler()),\n",
    "        (\"polynomial_features\", PolynomialFeatures()),\n",
    "        (\"ridge_regression\", Ridge())])\n",
    "\n",
    "params = {\n",
    "    'polynomial_features__degree': [1, 2, 3],\n",
    "    'ridge_regression__alpha': np.geomspace(0.001, 10, 200)\n",
    "}\n",
    "\n",
    "grid = GridSearchCV(estimator, params, cv=kf)"
   ]
  },
  {
   "cell_type": "code",
   "execution_count": 13,
   "metadata": {},
   "outputs": [
    {
     "data": {
      "text/plain": [
       "GridSearchCV(cv=KFold(n_splits=3, random_state=72018, shuffle=True),\n",
       "             estimator=Pipeline(steps=[('minmax', MinMaxScaler()),\n",
       "                                       ('polynomial_features',\n",
       "                                        PolynomialFeatures()),\n",
       "                                       ('ridge_regression', Ridge())]),\n",
       "             param_grid={'polynomial_features__degree': [1, 2, 3],\n",
       "                         'ridge_regression__alpha': array([1.00000000e-03, 1.04737090e-03, 1.09698580e-03, 1.14895100e-03,\n",
       "       1.20337784e-0...\n",
       "       3.44896226e+00, 3.61234270e+00, 3.78346262e+00, 3.96268864e+00,\n",
       "       4.15040476e+00, 4.34701316e+00, 4.55293507e+00, 4.76861170e+00,\n",
       "       4.99450512e+00, 5.23109931e+00, 5.47890118e+00, 5.73844165e+00,\n",
       "       6.01027678e+00, 6.29498899e+00, 6.59318827e+00, 6.90551352e+00,\n",
       "       7.23263390e+00, 7.57525026e+00, 7.93409667e+00, 8.30994195e+00,\n",
       "       8.70359136e+00, 9.11588830e+00, 9.54771611e+00, 1.00000000e+01])})"
      ]
     },
     "execution_count": 13,
     "metadata": {},
     "output_type": "execute_result"
    }
   ],
   "source": [
    "grid.fit(X, y)"
   ]
  },
  {
   "cell_type": "code",
   "execution_count": 14,
   "metadata": {},
   "outputs": [
    {
     "data": {
      "text/plain": [
       "(0.7921810836936932,\n",
       " {'polynomial_features__degree': 3, 'ridge_regression__alpha': 0.001})"
      ]
     },
     "execution_count": 14,
     "metadata": {},
     "output_type": "execute_result"
    }
   ],
   "source": [
    "grid.best_score_, grid.best_params_"
   ]
  },
  {
   "cell_type": "markdown",
   "metadata": {},
   "source": [
    "### R^2 scores"
   ]
  },
  {
   "cell_type": "markdown",
   "metadata": {},
   "source": [
    "#### First score\n",
    "##### Used StandardScaler() and a different range of alphas"
   ]
  },
  {
   "cell_type": "raw",
   "metadata": {},
   "source": [
    "0.6465489437434322"
   ]
  },
  {
   "cell_type": "markdown",
   "metadata": {},
   "source": [
    "#### Second score\n",
    "##### Used MinMaxScaler() and alphas = np.geomspace(0.001, 10, 200)"
   ]
  },
  {
   "cell_type": "raw",
   "metadata": {},
   "source": [
    "0.7549579052901936"
   ]
  },
  {
   "cell_type": "markdown",
   "metadata": {},
   "source": [
    "#### Third score"
   ]
  },
  {
   "cell_type": "markdown",
   "metadata": {},
   "source": [
    "##### Used MinMaxScaler() and alphas = np.geomspace(0.001, 10, 200) and applied abs() to negative features then applied log10 "
   ]
  },
  {
   "cell_type": "code",
   "execution_count": 15,
   "metadata": {},
   "outputs": [
    {
     "data": {
      "text/plain": [
       "0.8128067530709002"
      ]
     },
     "execution_count": 15,
     "metadata": {},
     "output_type": "execute_result"
    }
   ],
   "source": [
    "y_predict = grid.predict(X)\n",
    "r2_score(y, y_predict)"
   ]
  },
  {
   "cell_type": "code",
   "execution_count": 28,
   "metadata": {},
   "outputs": [],
   "source": [
    "scaler = grid.best_estimator_.named_steps['ridge_regression']"
   ]
  },
  {
   "cell_type": "code",
   "execution_count": null,
   "metadata": {},
   "outputs": [],
   "source": [
    "scaler.coef_"
   ]
  },
  {
   "cell_type": "code",
   "execution_count": null,
   "metadata": {},
   "outputs": [],
   "source": [
    "colors = sns.color_palette()\n",
    "\n",
    "# Setup the dual y-axes\n",
    "ax1 = plt.axes()\n",
    "ax2 = ax1.twinx()\n",
    "\n",
    "# Plot the linear regression data\n",
    "ax1.plot(lr.coef_.ravel(), \n",
    "         color=colors[0], marker='o', label='linear regression')\n",
    "\n",
    "# Plot the regularization data sets\n",
    "ax2.plot(rr.coef_.ravel(), \n",
    "         color=colors[1], marker='o', label='ridge regression')\n",
    "\n",
    "h1, l1 = ax1.get_legend_handles_labels()\n",
    "h2, l2 = ax2.get_legend_handles_labels()\n",
    "ax1.legend(h1+h2, l1+l2)\n",
    "\n",
    "ax1.set(xlabel='coefficients',ylabel='linear regression')\n",
    "ax2.set(ylabel='ridge regression')\n",
    "\n",
    "ax1.set_xticks(range(len(lr.coef_)));"
   ]
  },
  {
   "cell_type": "code",
   "execution_count": 15,
   "metadata": {},
   "outputs": [],
   "source": [
    "estimator = Pipeline([(\"minmax\", MinMaxScaler()),\n",
    "        (\"polynomial_features\", PolynomialFeatures()),\n",
    "        (\"elastic\", ElasticNet())])\n",
    "\n",
    "params = {\n",
    "    'polynomial_features__degree': [1, 2, 3],\n",
    "    'elastic__alpha': np.geomspace(0.001, 10, 200),\n",
    "    'elastic__l1_ratio': np.linspace(0.1, 0.9, 9)\n",
    "}\n",
    "\n",
    "grid = GridSearchCV(estimator, params, cv=kf)"
   ]
  },
  {
   "cell_type": "code",
   "execution_count": null,
   "metadata": {},
   "outputs": [],
   "source": [
    "grid.fit(X, y)"
   ]
  },
  {
   "cell_type": "code",
   "execution_count": null,
   "metadata": {},
   "outputs": [],
   "source": [
    "grid.best_score_, grid.best_params_"
   ]
  },
  {
   "cell_type": "code",
   "execution_count": null,
   "metadata": {},
   "outputs": [],
   "source": [
    "y_predict = grid.predict(X)\n",
    "r2_score(y, y_predict)"
   ]
  },
  {
   "cell_type": "code",
   "execution_count": null,
   "metadata": {},
   "outputs": [],
   "source": []
  }
 ],
 "metadata": {
  "kernelspec": {
   "display_name": "Python 3",
   "language": "python",
   "name": "python3"
  },
  "language_info": {
   "codemirror_mode": {
    "name": "ipython",
    "version": 3
   },
   "file_extension": ".py",
   "mimetype": "text/x-python",
   "name": "python",
   "nbconvert_exporter": "python",
   "pygments_lexer": "ipython3",
   "version": "3.8.3"
  }
 },
 "nbformat": 4,
 "nbformat_minor": 4
}
